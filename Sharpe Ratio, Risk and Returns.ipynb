{
 "cells": [
  {
   "cell_type": "code",
   "execution_count": 1,
   "metadata": {},
   "outputs": [],
   "source": [
    "\n",
    "import pandas as pd\n",
    "import numpy as np\n",
    "import matplotlib.pyplot as plt\n",
    "\n",
    "# Settings for plots in a Jupyter notebook\n",
    "plt.style.use('fivethirtyeight')\n",
    "%matplotlib inline\n",
    "\n",
    "# Reading in the data\n",
    "stock_data = pd.read_csv('datasets/stock_data.csv', parse_dates=True, index_col=['Date']).dropna()\n",
    "benchmark_data = pd.read_csv('datasets/benchmark_data.csv', parse_dates=True, index_col=['Date']).dropna() "
   ]
  },
  {
   "cell_type": "code",
   "execution_count": null,
   "metadata": {},
   "outputs": [],
   "source": [
    "# Display summary for stock_data and benchmark_data\n",
    "print('Stocks\\n')\n",
    "\n",
    "print(stock_data.info())\n",
    "print(stock_data.head())\n",
    "\n",
    "print('\\nBenchmarks\\n')\n",
    "\n",
    "print(benchmark_data.info())\n",
    "print(benchmark_data.head())"
   ]
  },
  {
   "cell_type": "code",
   "execution_count": 1,
   "metadata": {
    "scrolled": true
   },
   "outputs": [
    {
     "ename": "NameError",
     "evalue": "name 'stock_data' is not defined",
     "output_type": "error",
     "traceback": [
      "\u001b[1;31m---------------------------------------------------------------------------\u001b[0m",
      "\u001b[1;31mNameError\u001b[0m                                 Traceback (most recent call last)",
      "\u001b[1;32m<ipython-input-1-41b79620e866>\u001b[0m in \u001b[0;36m<module>\u001b[1;34m\u001b[0m\n\u001b[0;32m      1\u001b[0m \u001b[1;31m# visualize the stock_data\u001b[0m\u001b[1;33m\u001b[0m\u001b[1;33m\u001b[0m\u001b[1;33m\u001b[0m\u001b[0m\n\u001b[0;32m      2\u001b[0m \u001b[1;33m\u001b[0m\u001b[0m\n\u001b[1;32m----> 3\u001b[1;33m \u001b[0mstock_data\u001b[0m\u001b[1;33m.\u001b[0m\u001b[0mplot\u001b[0m\u001b[1;33m(\u001b[0m\u001b[0msubplots\u001b[0m\u001b[1;33m=\u001b[0m\u001b[1;32mTrue\u001b[0m\u001b[1;33m,\u001b[0m \u001b[0mtitle\u001b[0m\u001b[1;33m=\u001b[0m\u001b[1;34m'Stock Data'\u001b[0m\u001b[1;33m)\u001b[0m\u001b[1;33m\u001b[0m\u001b[1;33m\u001b[0m\u001b[0m\n\u001b[0m\u001b[0;32m      4\u001b[0m \u001b[1;33m\u001b[0m\u001b[0m\n\u001b[0;32m      5\u001b[0m \u001b[1;31m# summarize the stock_data\u001b[0m\u001b[1;33m\u001b[0m\u001b[1;33m\u001b[0m\u001b[1;33m\u001b[0m\u001b[0m\n",
      "\u001b[1;31mNameError\u001b[0m: name 'stock_data' is not defined"
     ]
    }
   ],
   "source": [
    "# plot the stock_data\n",
    "stock_data.plot(subplots=True, title='Stock Data')\n",
    "\n",
    "# summarize the stock_data\n",
    "stock_data.describe()"
   ]
  },
  {
   "cell_type": "code",
   "execution_count": null,
   "metadata": {},
   "outputs": [],
   "source": [
    "# plot the benchmark_data\n",
    "benchmark_data.plot(subplots=True, title='S&P 500')\n",
    "\n",
    "# summarize the benchmark_data\n",
    "benchmark_data.describe()"
   ]
  },
  {
   "cell_type": "code",
   "execution_count": null,
   "metadata": {},
   "outputs": [],
   "source": [
    "# calculate daily stock_data returns\n",
    "stock_returns = stock_data.pct_change()\n",
    "\n",
    "# plot the daily returns\n",
    "stock_returns.plot()\n",
    "\n",
    "# summarize the daily returns\n",
    "stock_returns.describe()"
   ]
  },
  {
   "cell_type": "code",
   "execution_count": null,
   "metadata": {},
   "outputs": [],
   "source": [
    "# calculate daily benchmark_data returns\n",
    "sp_returns = pd.Series(data=benchmark_data['S&P 500']).pct_change()\n",
    "\n",
    "# plot the daily returns\n",
    "sp_returns.plot()\n",
    "\n",
    "# summarize the daily returns\n",
    "sp_returns.describe()"
   ]
  },
  {
   "cell_type": "code",
   "execution_count": null,
   "metadata": {},
   "outputs": [],
   "source": [
    "# calculate the difference in daily returns\n",
    "excess_returns = stock_returns.sub(sp_returns, axis='rows')\n",
    "\n",
    "# plot the excess_returns\n",
    "excess_returns.plot()\n",
    "\n",
    "# summarize the excess_returns\n",
    "print(excess_returns.describe())"
   ]
  },
  {
   "cell_type": "code",
   "execution_count": null,
   "metadata": {},
   "outputs": [],
   "source": [
    "# calculate the mean of excess_returns \n",
    "avg_excess_return = excess_returns.mean()\n",
    "\n",
    "# plot avg_excess_returns\n",
    "avg_excess_return.plot.bar(title='Mean of the Return Difference')"
   ]
  },
  {
   "cell_type": "code",
   "execution_count": null,
   "metadata": {},
   "outputs": [],
   "source": [
    "# calculate the standard deviations\n",
    "sd_excess_return = excess_returns.std()\n",
    "\n",
    "# plot the standard deviations\n",
    "sd_excess_return.plot.bar(title='Standard Deviation of the Return Difference')"
   ]
  },
  {
   "cell_type": "code",
   "execution_count": null,
   "metadata": {},
   "outputs": [],
   "source": [
    "# calculate the daily sharpe ratio\n",
    "daily_sharpe_ratio = avg_excess_return.div(sd_excess_return)\n",
    "\n",
    "# annualize the sharpe ratio\n",
    "annual_factor = np.sqrt(252)\n",
    "annual_sharpe_ratio = daily_sharpe_ratio.mul(annual_factor)\n",
    "\n",
    "# plot the annualized sharpe ratio\n",
    "annual_sharpe_ratio.plot.bar(title='Annualized Sharpe Ratio: Stocks vs S&P 500')"
   ]
  },
  {
   "cell_type": "code",
   "execution_count": null,
   "metadata": {},
   "outputs": [],
   "source": []
  },
  {
   "cell_type": "code",
   "execution_count": null,
   "metadata": {},
   "outputs": [],
   "source": []
  },
  {
   "cell_type": "code",
   "execution_count": null,
   "metadata": {},
   "outputs": [],
   "source": []
  }
 ],
 "metadata": {
  "kernelspec": {
   "display_name": "Python 3",
   "language": "python",
   "name": "python3"
  },
  "language_info": {
   "codemirror_mode": {
    "name": "ipython",
    "version": 3
   },
   "file_extension": ".py",
   "mimetype": "text/x-python",
   "name": "python",
   "nbconvert_exporter": "python",
   "pygments_lexer": "ipython3",
   "version": "3.7.4"
  }
 },
 "nbformat": 4,
 "nbformat_minor": 2
}
